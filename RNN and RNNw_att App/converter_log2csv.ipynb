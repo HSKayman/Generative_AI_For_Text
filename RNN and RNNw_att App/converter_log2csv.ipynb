{
 "cells": [
  {
   "cell_type": "code",
   "execution_count": 23,
   "id": "82f7194a",
   "metadata": {},
   "outputs": [],
   "source": [
    "import pandas as pd"
   ]
  },
  {
   "cell_type": "code",
   "execution_count": 24,
   "id": "dd116586",
   "metadata": {},
   "outputs": [],
   "source": [
    "def extract_info_from_file(file_path):\n",
    "    data = {}\n",
    "\n",
    "    with open(file_path, 'r') as file:\n",
    "        for line in file:\n",
    "            if not \":\" in line:\n",
    "                continue\n",
    "            label, value = line.split(':', 1)\n",
    "            if label in [\"Epoch\", \"Loss\", \"Question\", \"Predicted Output\"]:\n",
    "                continue\n",
    "            label = label.strip()\n",
    "            value = value.strip()\n",
    "\n",
    "            if len(value.split(\" \"))==2:\n",
    "                if '.' in value:\n",
    "                    value = float(value.split(\" \")[0])\n",
    "                else:\n",
    "                    value = int(value.split(\" \")[0]) \n",
    "            else:\n",
    "\n",
    "                if '.' in value:\n",
    "                    value = float(value)\n",
    "                else:\n",
    "                    value = int(value) \n",
    "            if label in data.keys():\n",
    "                data[label].append(value)\n",
    "            else:\n",
    "                data[label]=[]\n",
    "\n",
    "    return data"
   ]
  },
  {
   "cell_type": "code",
   "execution_count": 25,
   "id": "3509718b",
   "metadata": {},
   "outputs": [],
   "source": [
    "file_path = 'RNN_log_2024_04_26.txt'  "
   ]
  },
  {
   "cell_type": "code",
   "execution_count": 26,
   "id": "3d6ec02b",
   "metadata": {},
   "outputs": [],
   "source": [
    "info = extract_info_from_file(file_path)"
   ]
  },
  {
   "cell_type": "code",
   "execution_count": 27,
   "id": "db85826f",
   "metadata": {},
   "outputs": [
    {
     "data": {
      "text/plain": [
       "{'Number of elements': [500, 500, 500, 500, 500, 500, 500],\n",
       " 'Batch size': [16, 16, 16, 64, 64, 64, 64],\n",
       " 'Unit size': [256, 2048, 2048, 256, 256, 2048, 2048],\n",
       " 'Number of epochs': [2000, 400, 2000, 400, 2000, 400, 2000],\n",
       " 'Duration': [2868.0089,\n",
       "  1575.8907,\n",
       "  7877.9283,\n",
       "  217.4865,\n",
       "  1080.0281,\n",
       "  565.3321,\n",
       "  2861.4205]}"
      ]
     },
     "execution_count": 27,
     "metadata": {},
     "output_type": "execute_result"
    }
   ],
   "source": [
    "info"
   ]
  },
  {
   "cell_type": "code",
   "execution_count": 28,
   "id": "b691724d",
   "metadata": {},
   "outputs": [],
   "source": [
    "df = pd.DataFrame(info)"
   ]
  },
  {
   "cell_type": "code",
   "execution_count": 29,
   "id": "2a73541d",
   "metadata": {},
   "outputs": [
    {
     "data": {
      "text/html": [
       "<div>\n",
       "<style scoped>\n",
       "    .dataframe tbody tr th:only-of-type {\n",
       "        vertical-align: middle;\n",
       "    }\n",
       "\n",
       "    .dataframe tbody tr th {\n",
       "        vertical-align: top;\n",
       "    }\n",
       "\n",
       "    .dataframe thead th {\n",
       "        text-align: right;\n",
       "    }\n",
       "</style>\n",
       "<table border=\"1\" class=\"dataframe\">\n",
       "  <thead>\n",
       "    <tr style=\"text-align: right;\">\n",
       "      <th></th>\n",
       "      <th>Number of elements</th>\n",
       "      <th>Batch size</th>\n",
       "      <th>Unit size</th>\n",
       "      <th>Number of epochs</th>\n",
       "      <th>Duration</th>\n",
       "    </tr>\n",
       "  </thead>\n",
       "  <tbody>\n",
       "    <tr>\n",
       "      <th>0</th>\n",
       "      <td>500</td>\n",
       "      <td>16</td>\n",
       "      <td>256</td>\n",
       "      <td>2000</td>\n",
       "      <td>2868.0089</td>\n",
       "    </tr>\n",
       "    <tr>\n",
       "      <th>1</th>\n",
       "      <td>500</td>\n",
       "      <td>16</td>\n",
       "      <td>2048</td>\n",
       "      <td>400</td>\n",
       "      <td>1575.8907</td>\n",
       "    </tr>\n",
       "    <tr>\n",
       "      <th>2</th>\n",
       "      <td>500</td>\n",
       "      <td>16</td>\n",
       "      <td>2048</td>\n",
       "      <td>2000</td>\n",
       "      <td>7877.9283</td>\n",
       "    </tr>\n",
       "    <tr>\n",
       "      <th>3</th>\n",
       "      <td>500</td>\n",
       "      <td>64</td>\n",
       "      <td>256</td>\n",
       "      <td>400</td>\n",
       "      <td>217.4865</td>\n",
       "    </tr>\n",
       "    <tr>\n",
       "      <th>4</th>\n",
       "      <td>500</td>\n",
       "      <td>64</td>\n",
       "      <td>256</td>\n",
       "      <td>2000</td>\n",
       "      <td>1080.0281</td>\n",
       "    </tr>\n",
       "    <tr>\n",
       "      <th>5</th>\n",
       "      <td>500</td>\n",
       "      <td>64</td>\n",
       "      <td>2048</td>\n",
       "      <td>400</td>\n",
       "      <td>565.3321</td>\n",
       "    </tr>\n",
       "    <tr>\n",
       "      <th>6</th>\n",
       "      <td>500</td>\n",
       "      <td>64</td>\n",
       "      <td>2048</td>\n",
       "      <td>2000</td>\n",
       "      <td>2861.4205</td>\n",
       "    </tr>\n",
       "  </tbody>\n",
       "</table>\n",
       "</div>"
      ],
      "text/plain": [
       "   Number of elements  Batch size  Unit size  Number of epochs   Duration\n",
       "0                 500          16        256              2000  2868.0089\n",
       "1                 500          16       2048               400  1575.8907\n",
       "2                 500          16       2048              2000  7877.9283\n",
       "3                 500          64        256               400   217.4865\n",
       "4                 500          64        256              2000  1080.0281\n",
       "5                 500          64       2048               400   565.3321\n",
       "6                 500          64       2048              2000  2861.4205"
      ]
     },
     "execution_count": 29,
     "metadata": {},
     "output_type": "execute_result"
    }
   ],
   "source": [
    "df"
   ]
  },
  {
   "cell_type": "code",
   "execution_count": 31,
   "id": "3a0bf2d0",
   "metadata": {},
   "outputs": [],
   "source": [
    "df.to_csv(file_path[:-3]+\"csv\")"
   ]
  },
  {
   "cell_type": "code",
   "execution_count": null,
   "id": "f5a0e00d",
   "metadata": {},
   "outputs": [],
   "source": []
  }
 ],
 "metadata": {
  "kernelspec": {
   "display_name": "Python 3 (ipykernel)",
   "language": "python",
   "name": "python3"
  },
  "language_info": {
   "codemirror_mode": {
    "name": "ipython",
    "version": 3
   },
   "file_extension": ".py",
   "mimetype": "text/x-python",
   "name": "python",
   "nbconvert_exporter": "python",
   "pygments_lexer": "ipython3",
   "version": "3.9.12"
  }
 },
 "nbformat": 4,
 "nbformat_minor": 5
}
