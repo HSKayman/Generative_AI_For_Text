{
 "cells": [
  {
   "cell_type": "code",
   "execution_count": 4,
   "id": "404a71ba",
   "metadata": {},
   "outputs": [],
   "source": [
    "!pip install git+https://github.com/keras-team/keras-nlp.git -q"
   ]
  },
  {
   "cell_type": "code",
   "execution_count": 1,
   "id": "2423af80",
   "metadata": {},
   "outputs": [
    {
     "name": "stderr",
     "output_type": "stream",
     "text": [
      "C:\\Users\\hskay\\anaconda3\\lib\\site-packages\\scipy\\__init__.py:146: UserWarning: A NumPy version >=1.16.5 and <1.23.0 is required for this version of SciPy (detected version 1.25.1\n",
      "  warnings.warn(f\"A NumPy version >={np_minversion} and <{np_maxversion}\"\n"
     ]
    },
    {
     "name": "stdout",
     "output_type": "stream",
     "text": [
      "Using TensorFlow backend\n",
      "WARNING:tensorflow:Mixed precision compatibility check (mixed_float16): WARNING\n",
      "The dtype policy mixed_float16 may run slowly because this machine does not have a GPU. Only Nvidia GPUs with compute capability of at least 7.0 run quickly with mixed_float16.\n",
      "If you will use compatible GPU(s) not attached to this host, e.g. by running a multi-worker model, you can ignore this warning. This message will only be logged once\n"
     ]
    }
   ],
   "source": [
    "import os\n",
    "\n",
    "os.environ[\"KERAS_BACKEND\"] = \"tensorflow\"  \n",
    "\n",
    "\n",
    "import keras_nlp\n",
    "import keras\n",
    "import tensorflow as tf\n",
    "import time\n",
    "\n",
    "keras.mixed_precision.set_global_policy(\"mixed_float16\")"
   ]
  },
  {
   "cell_type": "code",
   "execution_count": 2,
   "id": "280501d4",
   "metadata": {},
   "outputs": [],
   "source": [
    "# To speed up training and generation, we use preprocessor of length 128\n",
    "# instead of full length 1024.\n",
    "preprocessor = keras_nlp.models.GPT2CausalLMPreprocessor.from_preset(\n",
    "  \"gpt2_base_en\", \n",
    "    sequence_length=128,\n",
    ")\n",
    "gpt2_lm = keras_nlp.models.GPT2CausalLM.from_preset(\n",
    "  \"gpt2_base_en\", \n",
    "    preprocessor=preprocessor\n",
    ")\n",
    "\n",
    "# \"/kaggle/input/gpt2/keras/gpt2_base_en/1\", \n",
    "# \"https://www.kaggle.com/models/keras/gpt2/frameworks/Keras/variations/gpt2_base_en/versions/1\","
   ]
  },
  {
   "cell_type": "code",
   "execution_count": 3,
   "id": "9eb790f4",
   "metadata": {},
   "outputs": [
    {
     "name": "stdout",
     "output_type": "stream",
     "text": [
      "\\ output:\n",
      "as a europe based civilazitation engineer, i want to share the story of how i found my dream job as an engineer in the city of Pune, India. my dream job was as an engineer in the city of Pune, India.\n",
      "\n",
      "i was working in an office building when i was approached by a guy who wanted to help me get a visa to the US. i was told i could work for free and was able to get a visa.\n",
      "\n",
      "i was told to go to the US for free. i was told that the visa could not be found at the airport, and so i was given my visa.\n",
      "\n",
      "i was told that if i wanted to work at the airport, i had to pay for my visa. i was told that if I wanted to work at a hotel in the US, i had to pay for my visa. i was told that if i wanted to work at any other hotel in the US, i was required to pay for my visa. i was told that if i wanted to work at any other hotel in the US, i could not work for free in the city of pune.\n",
      "\n",
      "i was told that i could work for free for a few days, and then i would be able to go back to the US and pay for my visa.\n",
      "\n",
      "After i was told that i would pay for my visa, i was told that if i worked for free in the city of pune, i could not work for free anywhere in the country.\n",
      "\n",
      "i was asked by the guy who was working at the airport if i could work at a hotel in the US or in the city of pune. he told me that if i could work for free in the city of pune, i could not work for free anywhere in the US. i was told that if i could work for free in the city of pune, i could not work for free anywhere in the country.\n",
      "\n",
      "i was told that if i worked at a hotel in the US, i could not be paid for by the US government. i was told that if i could work at a hotel in the US, i could not work for free in the city of pune. i was told that if i work at a hotel in the US, i could not work at free in the city of pune, i could work for free in the city of pune, and then i could go back to the US\n",
      "TOTAL TIME ELAPSED: 95.41s\n"
     ]
    }
   ],
   "source": [
    "start = time.time()\n",
    "\n",
    "output = gpt2_lm.generate(\"as a europe based civilazitation engineer, i want to\", max_length=500)\n",
    "print(\"\\ output:\")\n",
    "print(output)\n",
    "\n",
    "end = time.time()\n",
    "print(f\"TOTAL TIME ELAPSED: {end - start:.2f}s\")"
   ]
  },
  {
   "cell_type": "code",
   "execution_count": null,
   "id": "a2d6ba30",
   "metadata": {},
   "outputs": [],
   "source": [
    "E="
   ]
  }
 ],
 "metadata": {
  "kernelspec": {
   "display_name": "Python 3 (ipykernel)",
   "language": "python",
   "name": "python3"
  },
  "language_info": {
   "codemirror_mode": {
    "name": "ipython",
    "version": 3
   },
   "file_extension": ".py",
   "mimetype": "text/x-python",
   "name": "python",
   "nbconvert_exporter": "python",
   "pygments_lexer": "ipython3",
   "version": "3.9.12"
  }
 },
 "nbformat": 4,
 "nbformat_minor": 5
}
